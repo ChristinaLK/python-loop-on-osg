{
 "cells": [
  {
   "cell_type": "code",
   "execution_count": 1,
   "metadata": {},
   "outputs": [],
   "source": [
    "## needed to 'scriptify'\n",
    "import sys\n",
    "i = sys.argv[1]\n",
    "number = int(sys.argv[2])"
   ]
  },
  {
   "cell_type": "code",
   "execution_count": 3,
   "metadata": {},
   "outputs": [],
   "source": [
    "def scale_increment(num, scale = 10):\n",
    "    return(num*scale + 1)"
   ]
  },
  {
   "cell_type": "code",
   "execution_count": 12,
   "metadata": {},
   "outputs": [],
   "source": [
    "results = (scale_increment(number))\n",
    "out_file_name = \"results\"+str(i)+\".txt\"\n",
    "with open(out_file_name, 'w') as f:\n",
    "    print(results, file=f)"
   ]
  },
  {
   "cell_type": "code",
   "execution_count": null,
   "metadata": {},
   "outputs": [],
   "source": [
    "## original loop:\n",
    "#for i,number in enumerate([]):\n",
    "#    results = (scale_increment(number))\n",
    "#    out_file_name = \"results\"+str(i)+\".txt\"\n",
    "#    with open(out_file_name, 'w') as f:\n",
    "#        print(results, file=f)"
   ]
  }
 ],
 "metadata": {
  "kernelspec": {
   "display_name": "Python 3",
   "language": "python",
   "name": "python3"
  },
  "language_info": {
   "codemirror_mode": {
    "name": "ipython",
    "version": 3
   },
   "file_extension": ".py",
   "mimetype": "text/x-python",
   "name": "python",
   "nbconvert_exporter": "python",
   "pygments_lexer": "ipython3",
   "version": "3.8.3"
  }
 },
 "nbformat": 4,
 "nbformat_minor": 4
}
